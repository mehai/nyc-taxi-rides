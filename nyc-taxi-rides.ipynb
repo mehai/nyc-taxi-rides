{
 "cells": [
  {
   "cell_type": "markdown",
   "metadata": {},
   "source": [
    "# NYC Yellow Taxi Rides"
   ]
  },
  {
   "cell_type": "markdown",
   "metadata": {},
   "source": [
    "## I. Overview"
   ]
  },
  {
   "cell_type": "markdown",
   "metadata": {},
   "source": [
    "### 1. Abstract"
   ]
  },
  {
   "cell_type": "markdown",
   "metadata": {},
   "source": [
    "Using **data science** techniques and the open dataset from NYC's TLC, we've managed to discover some interesting insights in the way the Yellow Taxicabs operated in the first month of the year 2019."
   ]
  },
  {
   "cell_type": "markdown",
   "metadata": {},
   "source": [
    "### 2. Keywords"
   ]
  },
  {
   "cell_type": "markdown",
   "metadata": {},
   "source": [
    "nyc, taxi, yellow-taxi, tlc, data-engineering, data-analysis"
   ]
  },
  {
   "cell_type": "markdown",
   "metadata": {},
   "source": [
    "### 3. Introduction"
   ]
  },
  {
   "cell_type": "markdown",
   "metadata": {},
   "source": [
    "NYC is popular for many things. One of these things is the yellow taxicab. They are widely recognizable symbols of the city. Taxis painted yellow (medallion taxis) are able to pick up passengers anywhere in the five boroughs. Taxicabs are operated by private companies and licensed by the New York City Taxi and Limousine Commission (TLC).\n",
    "\n",
    "Luckily for us, [TLC Trip Record Data](https://www1.nyc.gov/site/tlc/about/tlc-trip-record-data.page) is an open dataset which we can use to gain some interesting insights on how people in NYC use them.\n",
    "\n",
    "We are going to use a Data Science workflow to achieve our goals.\n",
    "\n",
    "**Data Acquisition --> Data Exploration --> Data Pre-processing --> Analysis**\n"
   ]
  },
  {
   "cell_type": "markdown",
   "metadata": {},
   "source": [
    "### 4. Project Objectives"
   ]
  },
  {
   "cell_type": "markdown",
   "metadata": {},
   "source": [
    "The objective of this project is to apply *data science* techniques to discover useful insights in the data provided by NYC's TLC (Taxi & Limousine Commision) for the month of January 2019."
   ]
  },
  {
   "cell_type": "markdown",
   "metadata": {},
   "source": [
    "## II. The Data"
   ]
  },
  {
   "cell_type": "markdown",
   "metadata": {},
   "source": [
    "### 1. Source\n",
    "[TLC Trip Record Data](https://www1.nyc.gov/site/tlc/about/tlc-trip-record-data.page)\n",
    "\n",
    "We are going to use the trip record data starting from January 2019. We are also going to use the Taxi Zone Lookup Table also provided by this source."
   ]
  },
  {
   "cell_type": "markdown",
   "metadata": {},
   "source": [
    "### 2. Description\n",
    "**A. TRIPS DATA**\n",
    "- **Files**: yellow_tripdata_2019-01.csv (header included)\n",
    "- **Summary**: Each record models a yellow taxi trip.\n",
    "\n",
    "|**Column**|**Description**|\n",
    "|---|---|\n",
    "|VendorID|A code indicating the TPEP provider that provided the record. **<ul><li>1= Creative Mobile Technologies, LLC;</li> <li>2= VeriFone Inc. </li></ul>**|\n",
    "|tpep_pickup_datetime|The date and time when the meter was engaged.|\n",
    "|tpep_dropoff_datetime|The date and time when the meter was disengaged.|\n",
    "|passenger_count|The number of passengers in the vehicle. This is a driver-entered value.|\n",
    "|trip_distance|The elapsed trip distance in miles reported by the taximeter.|\n",
    "|RatecodeID|The final rate code in effect at the end of the trip. **<ul><li>1=Standard rate</li> <li>2=JFK</li> <li>3=Newark</li> <li>4=Nassau or Westchester</li><li>5=Negotiated fare</li> <li>6=Group ride</li></ul>**|\n",
    "|store_and_fwd_flag|This flag indicates whether the trip record was held in vehicle memory before sending to the vendor, aka “store and forward,” because the vehicle did not have a connection to the server. **<ul><li>Y=store and forward trip</li><li>N=not a store and forward trip</li></ul>**|\n",
    "|PULocationID|TLC Taxi Zone in which the taximeter was engaged|\n",
    "|DOLocationID|TLC Taxi Zone in which the taximeter was disengaged|\n",
    "|payment_type|A numeric code signifying how the passenger paid for the trip. **<ul><li>1=Credit card</li><li>2=Cash</li><li>3=No charge</li><li>4=Dispute</li><li>5=Unknown</li><li>6=Voided trip</li></ul>**|\n",
    "|fare_amount|The time-and-distance fare calculated by the meter.|\n",
    "|extra|Miscellaneous extras and surcharges.  Currently, this only includesthe 0.50 and 1 rush hour and overnight charges.|\n",
    "|mta_tax|0.50 MTA tax that is automatically triggered based on the metered rate in use.|\n",
    "|tip_amount|This field is automatically populated for credit card tips. Cash tips are not included.|\n",
    "|tolls_amount|Total amount of all tolls paid in trip.|\n",
    "|improvement_surcharge|0.30 improvement surcharge assessed trips at the flag drop.|\n",
    "|total_amount|The total amount charged to passengers. Does not include cash tips.|\n",
    "|congestion_surcharge|Surcharge in the case of congestion.|\n",
    "\n",
    "- **Details**:\n",
    "For further details please refer to the [trip record user guide](https://www1.nyc.gov/assets/tlc/downloads/pdf/trip_record_user_guide.pdf) and the [yellow trips data dictionary](https://www1.nyc.gov/assets/tlc/downloads/pdf/data_dictionary_trip_records_yellow.pdf), both provided by TLC.\n",
    "\n",
    "**B. TAXI ZONE LOOKUP TABLE**\n",
    "- **Files**: taxi+_zone_lookup.csv (header included)\n",
    "- **Summary**: Each record models a taxi zone.\n",
    "\n",
    "|**Column**|**Description**|\n",
    "|---|---|\n",
    "|\"LocationID\"|ID of the location|\n",
    "|\"Borough\"|Borough in which the taxi zone is located|\n",
    "|\"Zone\"|Name of the zone|\n",
    "|\"service_zone\"|Type of zone, irrelevant for the yellow taxicabs as these are not restricted|\n",
    "\n",
    "- **Details**: For further details please refer to the [trip record user guide](https://www1.nyc.gov/assets/tlc/downloads/pdf/trip_record_user_guide.pdf) provided by TLC. Maps of the taxi zones for each borough can be found [here](https://www1.nyc.gov/site/tlc/about/tlc-trip-record-data.page)."
   ]
  },
  {
   "cell_type": "markdown",
   "metadata": {},
   "source": [
    "## III. The Environment"
   ]
  },
  {
   "cell_type": "markdown",
   "metadata": {},
   "source": [
    "On the current environment, only spark is installed so we need to also install the other tools."
   ]
  },
  {
   "cell_type": "code",
   "execution_count": 1,
   "metadata": {},
   "outputs": [
    {
     "name": "stdout",
     "output_type": "stream",
     "text": [
      "Requirement already satisfied: matplotlib in /usr/local/lib/python3.7/dist-packages (3.3.1)\n",
      "Requirement already satisfied: pillow>=6.2.0 in /usr/local/lib/python3.7/dist-packages (from matplotlib) (7.2.0)\n",
      "Requirement already satisfied: cycler>=0.10 in /usr/local/lib/python3.7/dist-packages (from matplotlib) (0.10.0)\n",
      "Requirement already satisfied: pyparsing!=2.0.4,!=2.1.2,!=2.1.6,>=2.0.3 in /usr/local/lib/python3.7/dist-packages (from matplotlib) (2.4.7)\n",
      "Requirement already satisfied: numpy>=1.15 in /usr/local/lib/python3.7/dist-packages (from matplotlib) (1.19.1)\n",
      "Requirement already satisfied: python-dateutil>=2.1 in /usr/local/lib/python3.7/dist-packages (from matplotlib) (2.8.1)\n",
      "Requirement already satisfied: kiwisolver>=1.0.1 in /usr/local/lib/python3.7/dist-packages (from matplotlib) (1.2.0)\n",
      "Requirement already satisfied: certifi>=2020.06.20 in /usr/local/lib/python3.7/dist-packages (from matplotlib) (2020.6.20)\n",
      "Requirement already satisfied: six in /usr/lib/python3/dist-packages (from cycler>=0.10->matplotlib) (1.12.0)\n",
      "\u001b[33mWARNING: You are using pip version 20.2.2; however, version 20.2.3 is available.\n",
      "You should consider upgrading via the '/usr/bin/python3 -m pip install --upgrade pip' command.\u001b[0m\n",
      "Note: you may need to restart the kernel to use updated packages.\n",
      "Requirement already satisfied: seaborn in /usr/local/lib/python3.7/dist-packages (0.11.0)\n",
      "Requirement already satisfied: scipy>=1.0 in /usr/local/lib/python3.7/dist-packages (from seaborn) (1.5.2)\n",
      "Requirement already satisfied: pandas>=0.23 in /usr/local/lib/python3.7/dist-packages (from seaborn) (1.1.2)\n",
      "Requirement already satisfied: matplotlib>=2.2 in /usr/local/lib/python3.7/dist-packages (from seaborn) (3.3.1)\n",
      "Requirement already satisfied: numpy>=1.15 in /usr/local/lib/python3.7/dist-packages (from seaborn) (1.19.1)\n",
      "Requirement already satisfied: python-dateutil>=2.7.3 in /usr/local/lib/python3.7/dist-packages (from pandas>=0.23->seaborn) (2.8.1)\n",
      "Requirement already satisfied: pytz>=2017.2 in /usr/local/lib/python3.7/dist-packages (from pandas>=0.23->seaborn) (2020.1)\n",
      "Requirement already satisfied: cycler>=0.10 in /usr/local/lib/python3.7/dist-packages (from matplotlib>=2.2->seaborn) (0.10.0)\n",
      "Requirement already satisfied: kiwisolver>=1.0.1 in /usr/local/lib/python3.7/dist-packages (from matplotlib>=2.2->seaborn) (1.2.0)\n",
      "Requirement already satisfied: certifi>=2020.06.20 in /usr/local/lib/python3.7/dist-packages (from matplotlib>=2.2->seaborn) (2020.6.20)\n",
      "Requirement already satisfied: pillow>=6.2.0 in /usr/local/lib/python3.7/dist-packages (from matplotlib>=2.2->seaborn) (7.2.0)\n",
      "Requirement already satisfied: pyparsing!=2.0.4,!=2.1.2,!=2.1.6,>=2.0.3 in /usr/local/lib/python3.7/dist-packages (from matplotlib>=2.2->seaborn) (2.4.7)\n",
      "Requirement already satisfied: six>=1.5 in /usr/lib/python3/dist-packages (from python-dateutil>=2.7.3->pandas>=0.23->seaborn) (1.12.0)\n",
      "\u001b[33mWARNING: You are using pip version 20.2.2; however, version 20.2.3 is available.\n",
      "You should consider upgrading via the '/usr/bin/python3 -m pip install --upgrade pip' command.\u001b[0m\n",
      "Note: you may need to restart the kernel to use updated packages.\n"
     ]
    }
   ],
   "source": [
    "%pip install matplotlib\n",
    "%pip install seaborn"
   ]
  },
  {
   "cell_type": "code",
   "execution_count": 2,
   "metadata": {},
   "outputs": [
    {
     "name": "stdout",
     "output_type": "stream",
     "text": [
      "Reading package lists...\n",
      "Building dependency tree...\n",
      "Reading state information...\n",
      "wget is already the newest version (1.20.1-1.1).\n",
      "0 upgraded, 0 newly installed, 0 to remove and 0 not upgraded.\n"
     ]
    }
   ],
   "source": [
    "%%bash\n",
    "apt-get install --assume-yes wget"
   ]
  },
  {
   "cell_type": "markdown",
   "metadata": {},
   "source": [
    "## IV. Data Acquisition"
   ]
  },
  {
   "cell_type": "markdown",
   "metadata": {},
   "source": [
    "First we need to download the data. We are going to simply use wget to download the necessary csv files in a new directory called *nyc-taxi-data*.\n",
    "\n",
    "This might take a while as the total size of the data is over 600MB."
   ]
  },
  {
   "cell_type": "code",
   "execution_count": 3,
   "metadata": {},
   "outputs": [],
   "source": [
    "%%bash\n",
    "# in case you already have the data, it's of no use to download it again.\n",
    "if [ ! -d nyc-taxi-data ]\n",
    "then\n",
    "    mkdir nyc-taxi-data\n",
    "    wget -nv -P nyc-taxi-data https://s3.amazonaws.com/nyc-tlc/trip+data/yellow_tripdata_2019-01.csv\n",
    "    wget -nv -P nyc-taxi-data https://s3.amazonaws.com/nyc-tlc/misc/taxi+_zone_lookup.csv\n",
    "fi"
   ]
  },
  {
   "cell_type": "markdown",
   "metadata": {},
   "source": [
    "## V. Data Exploration"
   ]
  },
  {
   "cell_type": "markdown",
   "metadata": {},
   "source": [
    "After we acquired the data, we need to get familiar with it, identify missing values, trends, outliers and check the veridicity of the documentation. This can help us understand the data better so that we know what alterations are needed in the next phase of Data Pre-Processing.\n",
    "\n",
    "Please note that there are other data exploration objectives like finding correlations between variabes. However, in this chapter we focus mainly on techniques that help us understand how we can clean and improve the data that we have."
   ]
  },
  {
   "cell_type": "markdown",
   "metadata": {},
   "source": [
    "Before anything else, let's import the packages that we need and create the connection to the spark cluster."
   ]
  },
  {
   "cell_type": "code",
   "execution_count": 4,
   "metadata": {},
   "outputs": [],
   "source": [
    "import matplotlib.pyplot as plt\n",
    "import seaborn as sns\n",
    "from pyspark.sql import SparkSession"
   ]
  },
  {
   "cell_type": "code",
   "execution_count": 5,
   "metadata": {},
   "outputs": [],
   "source": [
    "spark = SparkSession.\\\n",
    "        builder.\\\n",
    "        appName(\"nyc-taxi-app\").\\\n",
    "        master(\"spark://spark-master:7077\").\\\n",
    "        config(\"spark.executor.memory\", \"1g\").\\\n",
    "        getOrCreate()"
   ]
  },
  {
   "cell_type": "markdown",
   "metadata": {},
   "source": [
    "First let's read the trips data from the csv trip file in a DataFrame. "
   ]
  },
  {
   "cell_type": "code",
   "execution_count": 6,
   "metadata": {},
   "outputs": [],
   "source": [
    "trips = spark.read.csv('nyc-taxi-data/yellow_tripdata_2019-01.csv', header=True, inferSchema=True)"
   ]
  },
  {
   "cell_type": "markdown",
   "metadata": {},
   "source": [
    "First, let's have a look at the metadata."
   ]
  },
  {
   "cell_type": "code",
   "execution_count": 7,
   "metadata": {},
   "outputs": [
    {
     "name": "stdout",
     "output_type": "stream",
     "text": [
      "Columns: 18\n"
     ]
    }
   ],
   "source": [
    "print(f'Columns: {len(trips.columns)}')"
   ]
  },
  {
   "cell_type": "code",
   "execution_count": 8,
   "metadata": {},
   "outputs": [
    {
     "name": "stdout",
     "output_type": "stream",
     "text": [
      "Rows: 7667792\n"
     ]
    }
   ],
   "source": [
    "print(f'Rows: {trips.count()}')"
   ]
  },
  {
   "cell_type": "code",
   "execution_count": 9,
   "metadata": {},
   "outputs": [
    {
     "name": "stdout",
     "output_type": "stream",
     "text": [
      "root\n",
      " |-- VendorID: integer (nullable = true)\n",
      " |-- tpep_pickup_datetime: string (nullable = true)\n",
      " |-- tpep_dropoff_datetime: string (nullable = true)\n",
      " |-- passenger_count: integer (nullable = true)\n",
      " |-- trip_distance: double (nullable = true)\n",
      " |-- RatecodeID: integer (nullable = true)\n",
      " |-- store_and_fwd_flag: string (nullable = true)\n",
      " |-- PULocationID: integer (nullable = true)\n",
      " |-- DOLocationID: integer (nullable = true)\n",
      " |-- payment_type: integer (nullable = true)\n",
      " |-- fare_amount: double (nullable = true)\n",
      " |-- extra: double (nullable = true)\n",
      " |-- mta_tax: double (nullable = true)\n",
      " |-- tip_amount: double (nullable = true)\n",
      " |-- tolls_amount: double (nullable = true)\n",
      " |-- improvement_surcharge: double (nullable = true)\n",
      " |-- total_amount: double (nullable = true)\n",
      " |-- congestion_surcharge: double (nullable = true)\n",
      "\n"
     ]
    }
   ],
   "source": [
    "trips.printSchema()"
   ]
  },
  {
   "cell_type": "markdown",
   "metadata": {},
   "source": [
    "So it looks like there were **7.6 MILION** yellow taxi trips in NYC in the first month of 2019.\n",
    "\n",
    "We can already see that the columns **extra**, **mta_tax**,**tolls_amount** and **improvement_surcharge** can be dropped later in the pre-processing stage as they do not provide much information for us and won't be useful for our purpose. "
   ]
  },
  {
   "cell_type": "markdown",
   "metadata": {},
   "source": [
    "Let's make use of the describe() function and identify if we have missing values and where they are."
   ]
  },
  {
   "cell_type": "code",
   "execution_count": 10,
   "metadata": {},
   "outputs": [
    {
     "name": "stdout",
     "output_type": "stream",
     "text": [
      "+-------+------------------+--------------------+---------------------+------------------+------------------+------------------+------------------+-----------------+------------------+-------------------+------------------+------------------+-------------------+------------------+------------------+---------------------+-----------------+--------------------+\n",
      "|summary|          VendorID|tpep_pickup_datetime|tpep_dropoff_datetime|   passenger_count|     trip_distance|        RatecodeID|store_and_fwd_flag|     PULocationID|      DOLocationID|       payment_type|       fare_amount|             extra|            mta_tax|        tip_amount|      tolls_amount|improvement_surcharge|     total_amount|congestion_surcharge|\n",
      "+-------+------------------+--------------------+---------------------+------------------+------------------+------------------+------------------+-----------------+------------------+-------------------+------------------+------------------+-------------------+------------------+------------------+---------------------+-----------------+--------------------+\n",
      "|  count|           7667792|             7667792|              7667792|           7667792|           7667792|           7667792|           7667792|          7667792|           7667792|            7667792|           7667792|           7667792|            7667792|           7667792|           7667792|              7667792|          7667792|             2811814|\n",
      "|   mean|1.6367752281230372|                null|                 null|1.5670782410373156|2.8010838491705305|1.0583713016732847|              null|165.5009177348577|163.75290553004047| 1.2917761723322698|12.409408840250283| 0.328039447340251| 0.4968458208047375|1.8273670373427788|0.3169187035853675|  0.29933824495278977|15.68222216009666|3.289691281144485E-5|\n",
      "| stddev|0.5398204323494866|                null|                 null|1.2244306152539546| 3.737529402987038|0.6780888992871946|              null|66.39179993938723|  70.3644518565979|0.47332290762046825|262.07205829471377|0.5074789117423504|0.05337843445862466| 2.501212862609225|2.0236654947172377| 0.019117114637454326|262.2931600217461| 0.00906869500370369|\n",
      "|    min|                 1| 2001-02-02 14:55:07|  2001-02-02 15:07:27|                 0|               0.0|                 1|                 N|                1|                 1|                  1|            -362.0|             -60.0|               -0.5|             -63.5|             -70.0|                 -0.3|           -362.8|                 0.0|\n",
      "|    max|                 4| 2088-01-24 00:25:39|  2088-01-24 07:28:25|                 9|             831.8|                99|                 Y|              265|               265|                  4|         623259.86|            535.38|               60.8|            787.25|            3288.0|                  0.6|        623261.66|                 2.5|\n",
      "+-------+------------------+--------------------+---------------------+------------------+------------------+------------------+------------------+-----------------+------------------+-------------------+------------------+------------------+-------------------+------------------+------------------+---------------------+-----------------+--------------------+\n",
      "\n"
     ]
    }
   ],
   "source": [
    "trips.describe().show()"
   ]
  },
  {
   "cell_type": "markdown",
   "metadata": {},
   "source": [
    "We can see that the only column with missing values seem to be **congestion_surcharge** which was to be expected as not all trips suffer congestion. There seem to be almost 3M rows which have non-missing values for this row but we need to check how many of these are equal to 0.\n",
    "\n",
    "However, the **min** and **max** summaries give us more valuable information. There seem to be rows with corrupted values, e.g. datetimes out of January 2019, negative or unrealistic amounts, invalid RatecodeIDs etc. These outliers need to be removed.\n",
    "\n",
    "Let's test some of our assumptions to see if they are true so that we know how to proceed next.\n",
    "First, let's check if there is a considerable amount of 0.0 in the congestion_surcharge column."
   ]
  },
  {
   "cell_type": "code",
   "execution_count": 11,
   "metadata": {},
   "outputs": [
    {
     "data": {
      "text/plain": [
       "2811777"
      ]
     },
     "execution_count": 11,
     "metadata": {},
     "output_type": "execute_result"
    }
   ],
   "source": [
    "trips.filter('congestion_surcharge = 0.0').count()"
   ]
  },
  {
   "cell_type": "markdown",
   "metadata": {},
   "source": [
    "It looks like most of the rows have congestion_surcharge equal to 0 so we can also drop this column.\n",
    "\n",
    "Now, we know from the documentation provided by TLC that there are only 2 possible VendorID values, 1 and 2. However, before considering any different value an outlier, let's see weather or not there are other legitimate VendorIDs which were simply not documented."
   ]
  },
  {
   "cell_type": "code",
   "execution_count": 12,
   "metadata": {},
   "outputs": [
    {
     "data": {
      "text/plain": [
       "[Row(VendorID=1, count=2938778),\n",
       " Row(VendorID=4, count=76823),\n",
       " Row(VendorID=2, count=4652191)]"
      ]
     },
     "execution_count": 12,
     "metadata": {},
     "output_type": "execute_result"
    }
   ],
   "source": [
    "trips.groupBy('VendorID').count().collect()"
   ]
  },
  {
   "cell_type": "markdown",
   "metadata": {},
   "source": [
    "Looks like there is another Vendor with the ID of 4. Even if it accounts for only less than 0.01% of the data, we will still keep these observations as it is unrealistic to assume that 76823 rows are corrupted only because the VendorID differs.\n",
    "\n",
    "Now, let's do the same with the RatecodeID."
   ]
  },
  {
   "cell_type": "code",
   "execution_count": 13,
   "metadata": {},
   "outputs": [
    {
     "data": {
      "text/plain": [
       "[Row(RatecodeID=1, count=7430139),\n",
       " Row(RatecodeID=6, count=46),\n",
       " Row(RatecodeID=3, count=11801),\n",
       " Row(RatecodeID=5, count=54569),\n",
       " Row(RatecodeID=4, count=4895),\n",
       " Row(RatecodeID=2, count=166090),\n",
       " Row(RatecodeID=99, count=252)]"
      ]
     },
     "execution_count": 13,
     "metadata": {},
     "output_type": "execute_result"
    }
   ],
   "source": [
    "trips.groupBy('RatecodeID').count().collect()"
   ]
  },
  {
   "cell_type": "markdown",
   "metadata": {},
   "source": [
    "There seems to be another RatecodeID=99. Since we don't know what this means and the number of rows with this RatecodeID is fairly low, we can simply modify these observations in the Pre-Processing stage to Unknown=5.\n",
    "\n",
    "Finally, let's check how many rows we will need to drop because they have negative or unrealistic amount values. "
   ]
  },
  {
   "cell_type": "code",
   "execution_count": 14,
   "metadata": {},
   "outputs": [
    {
     "data": {
      "text/plain": [
       "7133"
      ]
     },
     "execution_count": 14,
     "metadata": {},
     "output_type": "execute_result"
    }
   ],
   "source": [
    "trips.filter('fare_amount < 0.0 or fare_amount > 100000.0 or tip_amount < 0.0 or total_amount < 0.0 or total_amount > 200000.0').count()"
   ]
  },
  {
   "cell_type": "markdown",
   "metadata": {},
   "source": [
    "## VI. Data Pre-Processing"
   ]
  },
  {
   "cell_type": "markdown",
   "metadata": {},
   "source": [
    "**Assumptions**:\n",
    "- There is another undocumented vendor with the VendorID of 4 which reported ~77000 trips.\n",
    "- The RatecodeID=99 is Unknown.\n",
    "- The fare_amount is in the range [0.0, 100000] and the total_amount in the range [0.0, 200000]. The rest of the values are corrupted / outliers."
   ]
  },
  {
   "cell_type": "markdown",
   "metadata": {},
   "source": [
    "**Clean & Transform Steps**:\n",
    "1. Drop extra, mta_tax, tolls_amount, improvement_surcharge, congestion_surcharge columns;\n",
    "2. Drop duplicates if they exist;\n",
    "3. Switch type of datetime columns to timestamp;\n",
    "4. Remove outlier rows: datetimes outside January 2019 | negative or unrealistcly high amounts | 0 trip_distance or passenger_count;\n",
    "5. Modify RatecodeID=99 to 5 (Unknown);\n",
    "6. Integrate with the taxi zone lookup table to add 2 new columns: PUBorough and DOBorough;\n",
    "7. Add a new column based on pickup_datetime: day_of_week (integer numbers from 1=Monday to 7=Sunday)."
   ]
  },
  {
   "cell_type": "code",
   "execution_count": 15,
   "metadata": {},
   "outputs": [
    {
     "name": "stdout",
     "output_type": "stream",
     "text": [
      "root\n",
      " |-- VendorID: integer (nullable = true)\n",
      " |-- tpep_pickup_datetime: string (nullable = true)\n",
      " |-- tpep_dropoff_datetime: string (nullable = true)\n",
      " |-- passenger_count: integer (nullable = true)\n",
      " |-- trip_distance: double (nullable = true)\n",
      " |-- RatecodeID: integer (nullable = true)\n",
      " |-- store_and_fwd_flag: string (nullable = true)\n",
      " |-- PULocationID: integer (nullable = true)\n",
      " |-- DOLocationID: integer (nullable = true)\n",
      " |-- payment_type: integer (nullable = true)\n",
      " |-- fare_amount: double (nullable = true)\n",
      " |-- tip_amount: double (nullable = true)\n",
      " |-- total_amount: double (nullable = true)\n",
      "\n"
     ]
    }
   ],
   "source": [
    "# 1. Drop extra, mta_tax,tolls_amount and improvement_surcharge columns\n",
    "trips = trips.drop('extra', 'mta_tax', 'tolls_amount', 'improvement_surcharge', 'congestion_surcharge')\n",
    "trips.printSchema()"
   ]
  },
  {
   "cell_type": "code",
   "execution_count": 16,
   "metadata": {},
   "outputs": [],
   "source": [
    "# 2. Drop duplicates if they exist\n",
    "trips = trips.dropDuplicates()"
   ]
  },
  {
   "cell_type": "code",
   "execution_count": 17,
   "metadata": {},
   "outputs": [
    {
     "name": "stdout",
     "output_type": "stream",
     "text": [
      "root\n",
      " |-- VendorID: integer (nullable = true)\n",
      " |-- tpep_pickup_datetime: timestamp (nullable = true)\n",
      " |-- tpep_dropoff_datetime: timestamp (nullable = true)\n",
      " |-- passenger_count: integer (nullable = true)\n",
      " |-- trip_distance: double (nullable = true)\n",
      " |-- RatecodeID: integer (nullable = true)\n",
      " |-- store_and_fwd_flag: string (nullable = true)\n",
      " |-- PULocationID: integer (nullable = true)\n",
      " |-- DOLocationID: integer (nullable = true)\n",
      " |-- payment_type: integer (nullable = true)\n",
      " |-- fare_amount: double (nullable = true)\n",
      " |-- tip_amount: double (nullable = true)\n",
      " |-- total_amount: double (nullable = true)\n",
      "\n"
     ]
    }
   ],
   "source": [
    "# 3. Switch type of datetime columns to timestamp\n",
    "from pyspark.sql.functions import col, to_timestamp\n",
    "trips = trips.withColumn('tpep_pickup_datetime', to_timestamp(col('tpep_pickup_datetime'), 'yyyy-MM-dd HH:mm:ss'))\n",
    "trips = trips.withColumn('tpep_dropoff_datetime', to_timestamp(col('tpep_dropoff_datetime'), 'yyyy-MM-dd HH:mm:ss'))\n",
    "trips.printSchema()"
   ]
  },
  {
   "cell_type": "code",
   "execution_count": 18,
   "metadata": {},
   "outputs": [
    {
     "data": {
      "text/plain": [
       "7491271"
      ]
     },
     "execution_count": 18,
     "metadata": {},
     "output_type": "execute_result"
    }
   ],
   "source": [
    "# 4. Remove outlier rows: datetimes outside Jan 2019 | negative or unrealistcly high amounts | 0 trip_distance or passenger_count\n",
    "from pyspark.sql.functions import unix_timestamp\n",
    "start_timestamp = '2019-01-01 00:00:00'\n",
    "end_timestamp = '2019-07-01 00:00:00'\n",
    "trips_clean_1 = trips.filter((trips['tpep_pickup_datetime'] >= start_timestamp) &\n",
    "             (trips['tpep_pickup_datetime'] < end_timestamp) &\n",
    "             (trips['tpep_dropoff_datetime'] >= start_timestamp) &\n",
    "             (trips['tpep_dropoff_datetime'] < end_timestamp) &\n",
    "             (trips['trip_distance'] > 0.0) & (trips['passenger_count'] > 0) &\n",
    "             (trips['fare_amount'] >= 0.0) & (trips['fare_amount'] <= 100000.0) &\n",
    "             (trips['total_amount'] >= 0.0) & (trips['total_amount'] <= 200000.0))\n",
    "trips_clean_1.count()"
   ]
  },
  {
   "cell_type": "code",
   "execution_count": 20,
   "metadata": {},
   "outputs": [
    {
     "data": {
      "text/plain": [
       "0"
      ]
     },
     "execution_count": 20,
     "metadata": {},
     "output_type": "execute_result"
    }
   ],
   "source": [
    "# 5. Modify RatecodeID=99 to 5 (Unknown)\n",
    "from pyspark.sql.functions import when\n",
    "trips_clean_2 = trips_clean_1.withColumn('RatecodeID', when(col('RatecodeID') == 99, 5).otherwise(col('RatecodeID')))\n",
    "trips_clean_2.filter(col('RatecodeID') == 99).count()"
   ]
  },
  {
   "cell_type": "code",
   "execution_count": 21,
   "metadata": {},
   "outputs": [
    {
     "name": "stdout",
     "output_type": "stream",
     "text": [
      "root\n",
      " |-- LocationID: integer (nullable = true)\n",
      " |-- Borough: string (nullable = true)\n",
      " |-- Zone: string (nullable = true)\n",
      " |-- service_zone: string (nullable = true)\n",
      "\n"
     ]
    }
   ],
   "source": [
    "# 6. Integrate with the taxi zone lookup table to add 2 new columns: PUBorough and DOBorough\n",
    "# first, let's create the new DF for the lookup table\n",
    "lookupDF = spark.read.csv('nyc-taxi-data/taxi+_zone_lookup.csv', header=True, inferSchema=True)\n",
    "lookupDF.printSchema()"
   ]
  },
  {
   "cell_type": "code",
   "execution_count": 22,
   "metadata": {},
   "outputs": [
    {
     "name": "stdout",
     "output_type": "stream",
     "text": [
      "root\n",
      " |-- LocationID: integer (nullable = true)\n",
      " |-- Borough: string (nullable = true)\n",
      "\n"
     ]
    }
   ],
   "source": [
    "lookupDF = lookupDF.drop('Zone', 'service_zone')\n",
    "lookupDF.printSchema()"
   ]
  },
  {
   "cell_type": "code",
   "execution_count": 23,
   "metadata": {},
   "outputs": [
    {
     "name": "stdout",
     "output_type": "stream",
     "text": [
      "root\n",
      " |-- VendorID: integer (nullable = true)\n",
      " |-- tpep_pickup_datetime: timestamp (nullable = true)\n",
      " |-- tpep_dropoff_datetime: timestamp (nullable = true)\n",
      " |-- passenger_count: integer (nullable = true)\n",
      " |-- trip_distance: double (nullable = true)\n",
      " |-- RatecodeID: integer (nullable = true)\n",
      " |-- store_and_fwd_flag: string (nullable = true)\n",
      " |-- DOLocationID: integer (nullable = true)\n",
      " |-- payment_type: integer (nullable = true)\n",
      " |-- fare_amount: double (nullable = true)\n",
      " |-- tip_amount: double (nullable = true)\n",
      " |-- total_amount: double (nullable = true)\n",
      " |-- PUBorough: string (nullable = true)\n",
      "\n"
     ]
    }
   ],
   "source": [
    "# replace PULocationID with PUBorough\n",
    "trips_clean_3 = trips_clean_2.\\\n",
    "                join(lookupDF, trips_clean_2.\\\n",
    "                PULocationID == lookupDF.LocationID).\\\n",
    "                withColumnRenamed('Borough', 'PUBorough').\\\n",
    "                drop('PULocationID', 'LocationID')\n",
    "trips_clean_3.printSchema()"
   ]
  },
  {
   "cell_type": "code",
   "execution_count": 24,
   "metadata": {},
   "outputs": [
    {
     "name": "stdout",
     "output_type": "stream",
     "text": [
      "root\n",
      " |-- VendorID: integer (nullable = true)\n",
      " |-- tpep_pickup_datetime: timestamp (nullable = true)\n",
      " |-- tpep_dropoff_datetime: timestamp (nullable = true)\n",
      " |-- passenger_count: integer (nullable = true)\n",
      " |-- trip_distance: double (nullable = true)\n",
      " |-- RatecodeID: integer (nullable = true)\n",
      " |-- store_and_fwd_flag: string (nullable = true)\n",
      " |-- payment_type: integer (nullable = true)\n",
      " |-- fare_amount: double (nullable = true)\n",
      " |-- tip_amount: double (nullable = true)\n",
      " |-- total_amount: double (nullable = true)\n",
      " |-- PUBorough: string (nullable = true)\n",
      " |-- DOBorough: string (nullable = true)\n",
      "\n"
     ]
    }
   ],
   "source": [
    "# replace DOLocationID with DOBorough\n",
    "trips_clean_4 = trips_clean_3.\\\n",
    "                join(lookupDF, trips_clean_3.DOLocationID == lookupDF.LocationID).\\\n",
    "                withColumnRenamed('Borough', 'DOBorough').\\\n",
    "                drop('DOLocationID', 'LocationID')\n",
    "trips_clean_4.printSchema()"
   ]
  },
  {
   "cell_type": "code",
   "execution_count": 25,
   "metadata": {},
   "outputs": [
    {
     "name": "stdout",
     "output_type": "stream",
     "text": [
      "root\n",
      " |-- VendorID: integer (nullable = true)\n",
      " |-- tpep_pickup_datetime: timestamp (nullable = true)\n",
      " |-- tpep_dropoff_datetime: timestamp (nullable = true)\n",
      " |-- passenger_count: integer (nullable = true)\n",
      " |-- trip_distance: double (nullable = true)\n",
      " |-- RatecodeID: integer (nullable = true)\n",
      " |-- store_and_fwd_flag: string (nullable = true)\n",
      " |-- payment_type: integer (nullable = true)\n",
      " |-- fare_amount: double (nullable = true)\n",
      " |-- tip_amount: double (nullable = true)\n",
      " |-- total_amount: double (nullable = true)\n",
      " |-- PUBorough: string (nullable = true)\n",
      " |-- DOBorough: string (nullable = true)\n",
      " |-- day_of_week: integer (nullable = true)\n",
      "\n"
     ]
    }
   ],
   "source": [
    "# 7. Add a new column based on pickup_datetime: day_of_week (integer numbers from 1=Monday to 7=Sunday)\n",
    "from pyspark.sql.functions import dayofweek\n",
    "trips_final = trips_clean_4.withColumn('day_of_week', dayofweek(col('tpep_pickup_datetime')))\n",
    "trips_final.printSchema()"
   ]
  },
  {
   "cell_type": "code",
   "execution_count": 26,
   "metadata": {},
   "outputs": [
    {
     "data": {
      "text/plain": [
       "DataFrame[VendorID: int, tpep_pickup_datetime: timestamp, tpep_dropoff_datetime: timestamp, passenger_count: int, trip_distance: double, RatecodeID: int, store_and_fwd_flag: string, payment_type: int, fare_amount: double, tip_amount: double, total_amount: double, PUBorough: string, DOBorough: string, day_of_week: int]"
      ]
     },
     "execution_count": 26,
     "metadata": {},
     "output_type": "execute_result"
    }
   ],
   "source": [
    "# Cleanup\n",
    "trips.unpersist()\n",
    "trips_clean_1.unpersist()\n",
    "trips_clean_2.unpersist()\n",
    "trips_clean_3.unpersist()\n",
    "trips_clean_4.unpersist()\n",
    "trips_final.cache()"
   ]
  },
  {
   "cell_type": "markdown",
   "metadata": {},
   "source": [
    "In the end, let's have a look a glimpse of our data before diving into the analytics."
   ]
  },
  {
   "cell_type": "code",
   "execution_count": 27,
   "metadata": {},
   "outputs": [
    {
     "data": {
      "text/plain": [
       "[Row(VendorID=2, tpep_pickup_datetime=datetime.datetime(2019, 1, 1, 0, 38), tpep_dropoff_datetime=datetime.datetime(2019, 1, 1, 0, 43, 44), passenger_count=1, trip_distance=0.81, RatecodeID=1, store_and_fwd_flag='N', payment_type=2, fare_amount=5.5, tip_amount=0.0, total_amount=6.8, PUBorough='Manhattan', DOBorough='Manhattan', day_of_week=3),\n",
       " Row(VendorID=1, tpep_pickup_datetime=datetime.datetime(2019, 1, 1, 0, 21, 41), tpep_dropoff_datetime=datetime.datetime(2019, 1, 1, 0, 26, 23), passenger_count=1, trip_distance=1.1, RatecodeID=1, store_and_fwd_flag='N', payment_type=1, fare_amount=5.5, tip_amount=2.0, total_amount=8.8, PUBorough='Manhattan', DOBorough='Manhattan', day_of_week=3),\n",
       " Row(VendorID=2, tpep_pickup_datetime=datetime.datetime(2019, 1, 1, 0, 21, 25), tpep_dropoff_datetime=datetime.datetime(2019, 1, 1, 0, 31, 44), passenger_count=5, trip_distance=0.98, RatecodeID=1, store_and_fwd_flag='N', payment_type=1, fare_amount=8.0, tip_amount=2.79, total_amount=12.09, PUBorough='Manhattan', DOBorough='Manhattan', day_of_week=3),\n",
       " Row(VendorID=2, tpep_pickup_datetime=datetime.datetime(2019, 1, 1, 0, 57, 15), tpep_dropoff_datetime=datetime.datetime(2019, 1, 1, 1, 8, 22), passenger_count=1, trip_distance=3.7, RatecodeID=1, store_and_fwd_flag='N', payment_type=1, fare_amount=12.5, tip_amount=3.45, total_amount=17.25, PUBorough='Manhattan', DOBorough='Manhattan', day_of_week=3),\n",
       " Row(VendorID=2, tpep_pickup_datetime=datetime.datetime(2019, 1, 1, 0, 31, 11), tpep_dropoff_datetime=datetime.datetime(2019, 1, 1, 0, 35, 17), passenger_count=1, trip_distance=0.72, RatecodeID=1, store_and_fwd_flag='N', payment_type=1, fare_amount=5.0, tip_amount=1.58, total_amount=7.88, PUBorough='Manhattan', DOBorough='Manhattan', day_of_week=3)]"
      ]
     },
     "execution_count": 27,
     "metadata": {},
     "output_type": "execute_result"
    }
   ],
   "source": [
    "trips_final.head(5)"
   ]
  },
  {
   "cell_type": "markdown",
   "metadata": {},
   "source": [
    "## VII. Analysis"
   ]
  },
  {
   "cell_type": "markdown",
   "metadata": {},
   "source": [
    "After succesfully cleaning the data and bringing it in a usable form, we can finally do some analytics on it.\n",
    "\n",
    "Before that, let's prepare the visualization tools."
   ]
  },
  {
   "cell_type": "code",
   "execution_count": 28,
   "metadata": {},
   "outputs": [],
   "source": [
    "%matplotlib inline\n",
    "sns.set(style=\"darkgrid\")\n",
    "\n",
    "def plot(x, y, ax, title, y_label):\n",
    "    ax.set_title(title)\n",
    "    ax.set_ylabel(y_label)\n",
    "    ax.bar(x, y)"
   ]
  },
  {
   "cell_type": "markdown",
   "metadata": {},
   "source": [
    "Let's start with the simplest of analytics and create some rankings!"
   ]
  },
  {
   "cell_type": "code",
   "execution_count": 29,
   "metadata": {},
   "outputs": [],
   "source": [
    "trips_final.createOrReplaceTempView('trips')\n",
    "top_trips_pickup_location = spark.sql('SELECT PUBorough, COUNT(*) as cnt FROM trips GROUP BY PUBorough ORDER BY cnt DESC')\n",
    "top_trips_dropoff_location = spark.sql('SELECT DOBorough, COUNT(*) as cnt FROM trips GROUP BY DOBorough ORDER BY cnt DESC')"
   ]
  },
  {
   "cell_type": "code",
   "execution_count": 30,
   "metadata": {},
   "outputs": [
    {
     "data": {
      "image/png": "[encoded data removed]",
      "text/plain": [
       "<Figure size 1440x288 with 2 Axes>"
      ]
     },
     "metadata": {},
     "output_type": "display_data"
    }
   ],
   "source": [
    "# now let's visualize the results\n",
    "fig, (ax1, ax2) = plt.subplots(ncols=2)\n",
    "pandasDF1 = top_trips_pickup_location.toPandas()\n",
    "pandasDF2 = top_trips_dropoff_location.toPandas()\n",
    "plot(pandasDF1.PUBorough, pandasDF1.cnt, ax1, 'Ranking of boroughs based on pickups', 'Number of trips')\n",
    "plot(pandasDF2.DOBorough, pandasDF2.cnt, ax2, 'Ranking of boroughs based on dropoffs', 'Number of trips')\n",
    "fig.tight_layout()\n",
    "fig.set_size_inches(20, 4)"
   ]
  },
  {
   "cell_type": "markdown",
   "metadata": {},
   "source": [
    "It looks like most of the yellow taxicabs clients are in the Manhattan area. It's probably not so surprising since probably most of the people from other boroughs use other transportation means."
   ]
  },
  {
   "cell_type": "markdown",
   "metadata": {},
   "source": [
    "Now let's see which days of the week are the busiest."
   ]
  },
  {
   "cell_type": "code",
   "execution_count": 31,
   "metadata": {},
   "outputs": [],
   "source": [
    "top_busy_days = spark.sql('SELECT day_of_week, COUNT(*) as cnt FROM trips GROUP BY day_of_week ORDER BY day_of_week')"
   ]
  },
  {
   "cell_type": "code",
   "execution_count": 32,
   "metadata": {},
   "outputs": [
    {
     "data": {
      "image/png": "[encoded data removed]",
      "text/plain": [
       "<Figure size 720x288 with 1 Axes>"
      ]
     },
     "metadata": {},
     "output_type": "display_data"
    }
   ],
   "source": [
    "fig, ax = plt.subplots()\n",
    "pandasDF1 = top_busy_days.toPandas()\n",
    "days_of_week = ['Monday', 'Tuesday', 'Wednesday', 'Thursday', 'Friday', 'Saturday', 'Sunday']\n",
    "plot(days_of_week, pandasDF1.cnt, ax, \"Number of trips / day of week\", \"Number of trips\")\n",
    "fig.set_size_inches(10, 4)"
   ]
  },
  {
   "cell_type": "markdown",
   "metadata": {},
   "source": [
    "Even though we would maybe expect the weekend to have the smallest number of trips, we can see that actually Monday and Tuesday are the days in which new yorkers travel the least by yellow taxicabs while Friday are the busiest days."
   ]
  },
  {
   "cell_type": "markdown",
   "metadata": {},
   "source": [
    "Finally, let's see what people prefer to use between cash and credit card and which ratecodes are the most popular (excepting the standard one)."
   ]
  },
  {
   "cell_type": "code",
   "execution_count": 33,
   "metadata": {},
   "outputs": [],
   "source": [
    "payment_types = spark.sql('SELECT payment_type, COUNT(*) as cnt FROM trips GROUP BY payment_type HAVING payment_type IN (1, 2) ORDER BY payment_type')\n",
    "ratecodes = spark.sql('SELECT RatecodeID, COUNT(*) as cnt FROM trips GROUP BY RatecodeID HAVING RatecodeID != 1 ORDER BY RatecodeID')"
   ]
  },
  {
   "cell_type": "code",
   "execution_count": 34,
   "metadata": {},
   "outputs": [
    {
     "data": {
      "image/png": "[encoded data removed]",
      "text/plain": [
       "<Figure size 1440x288 with 2 Axes>"
      ]
     },
     "metadata": {},
     "output_type": "display_data"
    }
   ],
   "source": [
    "# now let's visualize the results\n",
    "fig, (ax1, ax2) = plt.subplots(ncols=2)\n",
    "pandasDF1 = payment_types.toPandas()\n",
    "pandasDF2 = ratecodes.toPandas()\n",
    "payment_types_list = ['Credit card', 'Cash']\n",
    "ratecodes_list = ['JFK', 'Newark', 'Nassau / W', 'Negotiated fare', 'Group ride']\n",
    "plot(payment_types_list, pandasDF1.cnt, ax1, 'Popularity of payment types', 'Number of trips')\n",
    "plot(ratecodes_list, pandasDF2.cnt, ax2, 'Popularity of ratecodes', 'Number of trips')\n",
    "fig.tight_layout()\n",
    "fig.set_size_inches(20, 4)"
   ]
  },
  {
   "cell_type": "markdown",
   "metadata": {},
   "source": [
    "Using the credit card for payment is x2.5 more popular than using cash. Also, JFK seems to be an extremly popular ratecode for yellow taxicab customers. Since JFK is such an important place, let'a find out more about this route."
   ]
  },
  {
   "cell_type": "code",
   "execution_count": 35,
   "metadata": {},
   "outputs": [
    {
     "name": "stdout",
     "output_type": "stream",
     "text": [
      "+-------------+-------------------+-----------------+-------+----------------+\n",
      "|avg_trip_time|avg_passenger_count|avg_trip_distance|avg_tip|avg_total_amount|\n",
      "+-------------+-------------------+-----------------+-------+----------------+\n",
      "|      2815.22|               1.66|            17.37|   8.19|            66.5|\n",
      "+-------------+-------------------+-----------------+-------+----------------+\n",
      "\n"
     ]
    }
   ],
   "source": [
    "jfk = spark.sql('''\n",
    "SELECT round(avg(unix_timestamp(tpep_dropoff_datetime) - unix_timestamp(tpep_pickup_datetime)), 2) AS avg_trip_time,\n",
    "    round(avg(passenger_count), 2) AS avg_passenger_count,\n",
    "    round(avg(trip_distance), 2) AS avg_trip_distance,\n",
    "    round(avg(tip_amount), 2) AS avg_tip,\n",
    "    round(avg(total_amount), 2) AS avg_total_amount\n",
    "FROM trips\n",
    "GROUP BY RatecodeID\n",
    "HAVING RatecodeID = 2\n",
    "''')\n",
    "jfk.show()"
   ]
  },
  {
   "cell_type": "markdown",
   "metadata": {},
   "source": [
    "As we can see the average trip to / from JFK takes ~47 minutes (2815 seconds), is probably a single passenger ride, marks a distance of 17.37 miles, includes a credit card tip of ~8 dollars and costs a total amount of 66.5 dollars. These stats can help us understand the traffic around JFK and can be valuable information for city engineers to act upon with the goals of minimizing the carbon footprint, efficientizing access to the airport etc."
   ]
  },
  {
   "cell_type": "markdown",
   "metadata": {},
   "source": [
    "Finally, in the future, we might consider using ML techniques (like a regression model) to predict certain features of the data so let's discover some possible correlations that might exist by using the Pearson correlation."
   ]
  },
  {
   "cell_type": "code",
   "execution_count": 36,
   "metadata": {},
   "outputs": [
    {
     "name": "stdout",
     "output_type": "stream",
     "text": [
      "+--------------------+------------------------+-------------------+------------------+-----------------+-------------+\n",
      "|time_passengers_corr|distance_passengers_corr|tip_passengers_corr|time_distance_corr|distance_tip_corr|fare_tip_corr|\n",
      "+--------------------+------------------------+-------------------+------------------+-----------------+-------------+\n",
      "|              0.0092|                  0.0065|             6.0E-4|            0.1199|           0.5597|       0.5472|\n",
      "+--------------------+------------------------+-------------------+------------------+-----------------+-------------+\n",
      "\n"
     ]
    }
   ],
   "source": [
    "spark.sql('''\n",
    "SELECT round(corr(unix_timestamp(tpep_dropoff_datetime) - unix_timestamp(tpep_pickup_datetime), passenger_count), 4) AS time_passengers_corr,\n",
    "    round(corr(trip_distance, passenger_count), 4) AS distance_passengers_corr,\n",
    "    round(corr(tip_amount, passenger_count), 4) AS tip_passengers_corr,\n",
    "    round(corr(unix_timestamp(tpep_dropoff_datetime) - unix_timestamp(tpep_pickup_datetime), trip_distance), 4) AS time_distance_corr,\n",
    "    round(corr(trip_distance, tip_amount), 4) AS distance_tip_corr,\n",
    "    round(corr(fare_amount, tip_amount), 4) AS fare_tip_corr\n",
    "FROM trips\n",
    "''').show()"
   ]
  },
  {
   "cell_type": "markdown",
   "metadata": {},
   "source": [
    "It looks like there are only 2 considerable linear positive correlations out of the ones we tried to find.\n",
    "* trip_distance - tip_amount correlation\n",
    "* fare_amount - tip_amount correlation\n",
    "\n",
    "Of course, there are other more visible correlations like the fare_amount and total_amount correlations but we already know that because one depends on the other. Given our finding, it could be feasible to develop a regression model that could predict the tip for a ride. However, before doing this, more exploratory analysis is recommended to find all the possible factors that could play a role in influencing the tip.\n",
    "\n",
    "For more serious analysis regarding data correlation, we could use scatter plots and other visual tools."
   ]
  },
  {
   "cell_type": "markdown",
   "metadata": {},
   "source": [
    "There are, of course, other more advanced analysis techniques that we could apply against this data but for the purpose of this project, this should be enough as it is more focused on the data engineering side."
   ]
  },
  {
   "cell_type": "code",
   "execution_count": 37,
   "metadata": {},
   "outputs": [],
   "source": [
    "# cleanup\n",
    "spark.stop()"
   ]
  },
  {
   "cell_type": "markdown",
   "metadata": {},
   "source": [
    "## VIII. Summary"
   ]
  },
  {
   "cell_type": "markdown",
   "metadata": {},
   "source": [
    "In summary, we managed to use the Data Science workflow to make the NYC's yellow taxi trips data (January 2019) usable and we managed to discover some interesting insights in the way the Yellow Taxicabs operated in the first month of the year 2019."
   ]
  },
  {
   "cell_type": "markdown",
   "metadata": {},
   "source": [
    "## IX. References"
   ]
  },
  {
   "cell_type": "markdown",
   "metadata": {},
   "source": [
    "- NYC TLC - https://www1.nyc.gov/site/tlc/about/tlc-trip-record-data.page\n",
    "- Inspiration for analysis - https://docs.timescale.com/latest/tutorials/tutorial-hello-timescale\n",
    "- Spark SQL - https://spark.apache.org/docs/3.0.0/sql-programming-guide.html\n",
    "- Charts - https://matplotlib.org/api/pyplot_api.html"
   ]
  }
 ],
 "metadata": {
  "kernelspec": {
   "display_name": "Python 3",
   "language": "python",
   "name": "python3"
  },
  "language_info": {
   "codemirror_mode": {
    "name": "ipython",
    "version": 3
   },
   "file_extension": ".py",
   "mimetype": "text/x-python",
   "name": "python",
   "nbconvert_exporter": "python",
   "pygments_lexer": "ipython3",
   "version": "3.7.3"
  }
 },
 "nbformat": 4,
 "nbformat_minor": 4
}
